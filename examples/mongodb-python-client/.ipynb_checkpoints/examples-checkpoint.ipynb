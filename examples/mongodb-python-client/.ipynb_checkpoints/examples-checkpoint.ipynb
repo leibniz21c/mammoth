{
 "cells": [
  {
   "cell_type": "markdown",
   "id": "d0b11f3e-c357-49d8-bae1-430edec13daf",
   "metadata": {},
   "source": [
    "# MongoDB python client examples\n",
    " : pymongo-3.12.0"
   ]
  },
  {
   "cell_type": "markdown",
   "id": "4d2889d4-4589-41fa-ba12-13e7715c188b",
   "metadata": {},
   "source": [
    "## DB Connection"
   ]
  },
  {
   "cell_type": "code",
   "execution_count": 1,
   "id": "a90921ce-5715-402a-9dac-717fe375c0fb",
   "metadata": {},
   "outputs": [],
   "source": [
    "from pymongo import MongoClient\n",
    "\n",
    "# Connect by uri\n",
    "mongodb_URI = \"mongodb://localhost:27017/\"\n",
    "client = MongoClient(mongodb_URI)\n",
    "\n",
    "# connect by IP, PORT\n",
    "client = MongoClient(\"localhost\", 27017)"
   ]
  },
  {
   "cell_type": "markdown",
   "id": "6fa11a15-dd55-4763-b201-79d881321b43",
   "metadata": {},
   "source": [
    "## Check and access database"
   ]
  },
  {
   "cell_type": "code",
   "execution_count": 2,
   "id": "379eac0c-792d-4be6-9298-febd886b2511",
   "metadata": {},
   "outputs": [
    {
     "name": "stdout",
     "output_type": "stream",
     "text": [
      "['TEST_DATABASE', 'admin', 'config', 'local']\n"
     ]
    }
   ],
   "source": [
    "print(client.list_database_names())\n",
    "\n",
    "db = client.TEST_DATABASE"
   ]
  },
  {
   "cell_type": "markdown",
   "id": "5277dc59-026f-4909-a5c0-81c338684b26",
   "metadata": {},
   "source": [
    "## Check and access collection"
   ]
  },
  {
   "cell_type": "code",
   "execution_count": 3,
   "id": "ba96315c-701c-4962-b1b9-3eaf93ef99bb",
   "metadata": {},
   "outputs": [
    {
     "name": "stdout",
     "output_type": "stream",
     "text": [
      "['TEST_COLLECTION01']\n"
     ]
    },
    {
     "name": "stderr",
     "output_type": "stream",
     "text": [
      "<ipython-input-3-0e5d8c7030ad>:1: DeprecationWarning: collection_names is deprecated. Use list_collection_names instead.\n",
      "  print(db.collection_names())\n"
     ]
    }
   ],
   "source": [
    "print(db.collection_names())\n",
    "\n",
    "collection = db.TEST_COLLECTION01"
   ]
  },
  {
   "cell_type": "markdown",
   "id": "50b8f03d-4aea-4019-8f83-c3d173c91b00",
   "metadata": {},
   "source": [
    "## Write document\n",
    "#### Insert one"
   ]
  },
  {
   "cell_type": "code",
   "execution_count": 4,
   "id": "ab1c8566-0762-4076-8895-0bd177d8f5d8",
   "metadata": {},
   "outputs": [
    {
     "data": {
      "text/plain": [
       "{'id': 1,\n",
       " 'text': 'test data',\n",
       " 'list': ['1', '2', '3'],\n",
       " 'date': datetime.datetime(2021, 7, 19, 16, 14, 7, 346769)}"
      ]
     },
     "execution_count": 4,
     "metadata": {},
     "output_type": "execute_result"
    }
   ],
   "source": [
    "import datetime\n",
    "data = {\"id\": 1,\n",
    "        \"text\": \"test data\",\n",
    "        \"list\": [\"1\", \"2\", \"3\"],\n",
    "        \"date\": datetime.datetime.utcnow()\n",
    "        }\n",
    "data"
   ]
  },
  {
   "cell_type": "code",
   "execution_count": 5,
   "id": "a3a0c0e9-a8ae-4b4d-aee0-12bb9bd807ad",
   "metadata": {},
   "outputs": [
    {
     "name": "stdout",
     "output_type": "stream",
     "text": [
      "60f5a4d056a7ca76207f365c\n"
     ]
    }
   ],
   "source": [
    "data_id = collection.insert_one(data).inserted_id\n",
    "print(data_id)"
   ]
  },
  {
   "cell_type": "markdown",
   "id": "9b9e3540-3ba8-4cc6-900d-2ee2d1e6fe8a",
   "metadata": {},
   "source": [
    "#### Insert many"
   ]
  },
  {
   "cell_type": "code",
   "execution_count": 6,
   "id": "d6e60371-212b-4496-b0b4-27144eeac3f9",
   "metadata": {},
   "outputs": [
    {
     "data": {
      "text/plain": [
       "[ObjectId('60f5a4d356a7ca76207f365d'), ObjectId('60f5a4d356a7ca76207f365e')]"
      ]
     },
     "execution_count": 6,
     "metadata": {},
     "output_type": "execute_result"
    }
   ],
   "source": [
    "dataset = [\n",
    "    {\n",
    "        \"id\": 2,\n",
    "        \"text\": \"test data\",\n",
    "        \"list\": [\"1\", \"2\", \"3\"],\n",
    "        \"date\": datetime.datetime.utcnow()\n",
    "    },\n",
    "    {\"id\": 3,\n",
    "        \"text\": \"test data\",\n",
    "        \"list\": [\"1\", \"2\", \"3\"],\n",
    "        \"date\": datetime.datetime.utcnow()\n",
    "    }\n",
    "]\n",
    "\n",
    "result = collection.insert_many(dataset)\n",
    "result.inserted_ids"
   ]
  },
  {
   "cell_type": "markdown",
   "id": "61aaccb2-1695-42c6-bbbb-08f3c9bdb3a4",
   "metadata": {},
   "source": [
    "## Read document\n",
    "#### Find one"
   ]
  },
  {
   "cell_type": "code",
   "execution_count": 7,
   "id": "f27219a8-f52f-41ae-ba40-c14210ff601e",
   "metadata": {},
   "outputs": [],
   "source": [
    "from pprint import pprint"
   ]
  },
  {
   "cell_type": "code",
   "execution_count": 8,
   "id": "def619b2-4bf3-48bf-b5f5-6f347907798d",
   "metadata": {},
   "outputs": [
    {
     "name": "stdout",
     "output_type": "stream",
     "text": [
      "{'_id': ObjectId('60f5a4d056a7ca76207f365c'),\n",
      " 'date': datetime.datetime(2021, 7, 19, 16, 14, 7, 346000),\n",
      " 'id': 1,\n",
      " 'list': ['1', '2', '3'],\n",
      " 'text': 'test data'}\n"
     ]
    }
   ],
   "source": [
    "pprint(collection.find_one())"
   ]
  },
  {
   "cell_type": "code",
   "execution_count": 9,
   "id": "443e2774-6d70-428b-bcfd-767d4e408592",
   "metadata": {},
   "outputs": [
    {
     "name": "stdout",
     "output_type": "stream",
     "text": [
      "{'_id': ObjectId('60f5a4d356a7ca76207f365d'),\n",
      " 'date': datetime.datetime(2021, 7, 19, 16, 14, 11, 802000),\n",
      " 'id': 2,\n",
      " 'list': ['1', '2', '3'],\n",
      " 'text': 'test data'}\n"
     ]
    }
   ],
   "source": [
    "pprint(collection.find_one({\n",
    "    \"id\" : 2\n",
    "}))"
   ]
  },
  {
   "cell_type": "markdown",
   "id": "da27206d-1658-42fe-b5b3-68f457611d8e",
   "metadata": {},
   "source": [
    "#### Find many"
   ]
  },
  {
   "cell_type": "code",
   "execution_count": 10,
   "id": "9a375e2b-0857-4086-8c0b-a37643e659de",
   "metadata": {},
   "outputs": [
    {
     "name": "stdout",
     "output_type": "stream",
     "text": [
      "{'_id': ObjectId('60f5a4d056a7ca76207f365c'),\n",
      " 'date': datetime.datetime(2021, 7, 19, 16, 14, 7, 346000),\n",
      " 'id': 1,\n",
      " 'list': ['1', '2', '3'],\n",
      " 'text': 'test data'}\n",
      "{'_id': ObjectId('60f5a4d356a7ca76207f365d'),\n",
      " 'date': datetime.datetime(2021, 7, 19, 16, 14, 11, 802000),\n",
      " 'id': 2,\n",
      " 'list': ['1', '2', '3'],\n",
      " 'text': 'test data'}\n",
      "{'_id': ObjectId('60f5a4d356a7ca76207f365e'),\n",
      " 'date': datetime.datetime(2021, 7, 19, 16, 14, 11, 802000),\n",
      " 'id': 3,\n",
      " 'list': ['1', '2', '3'],\n",
      " 'text': 'test data'}\n"
     ]
    }
   ],
   "source": [
    "for c in collection.find():\n",
    "    pprint(c)"
   ]
  },
  {
   "cell_type": "code",
   "execution_count": 12,
   "id": "d5309180-c401-44aa-9f8f-88f494978304",
   "metadata": {},
   "outputs": [],
   "source": [
    "result = collection.find({\"text\" : 'test data'})"
   ]
  },
  {
   "cell_type": "code",
   "execution_count": 14,
   "id": "d5e3182f-2b0b-4d5b-bf9b-1368fee28de7",
   "metadata": {},
   "outputs": [
    {
     "name": "stdout",
     "output_type": "stream",
     "text": [
      "{'_id': ObjectId('60f5a4d056a7ca76207f365c'),\n",
      " 'date': datetime.datetime(2021, 7, 19, 16, 14, 7, 346000),\n",
      " 'id': 1,\n",
      " 'list': ['1', '2', '3'],\n",
      " 'text': 'test data'}\n",
      "{'_id': ObjectId('60f5a4d356a7ca76207f365d'),\n",
      " 'date': datetime.datetime(2021, 7, 19, 16, 14, 11, 802000),\n",
      " 'id': 2,\n",
      " 'list': ['1', '2', '3'],\n",
      " 'text': 'test data'}\n",
      "{'_id': ObjectId('60f5a4d356a7ca76207f365e'),\n",
      " 'date': datetime.datetime(2021, 7, 19, 16, 14, 11, 802000),\n",
      " 'id': 3,\n",
      " 'list': ['1', '2', '3'],\n",
      " 'text': 'test data'}\n"
     ]
    }
   ],
   "source": [
    "for document in result:\n",
    "    pprint(document)"
   ]
  }
 ],
 "metadata": {
  "kernelspec": {
   "display_name": "Python 3",
   "language": "python",
   "name": "python3"
  },
  "language_info": {
   "codemirror_mode": {
    "name": "ipython",
    "version": 3
   },
   "file_extension": ".py",
   "mimetype": "text/x-python",
   "name": "python",
   "nbconvert_exporter": "python",
   "pygments_lexer": "ipython3",
   "version": "3.9.4"
  }
 },
 "nbformat": 4,
 "nbformat_minor": 5
}
