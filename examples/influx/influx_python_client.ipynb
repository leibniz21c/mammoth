{
 "cells": [
  {
   "cell_type": "markdown",
   "id": "153a1761-fdb7-4dfd-9032-e646bfd44ef1",
   "metadata": {},
   "source": [
    "# Config"
   ]
  },
  {
   "cell_type": "code",
   "execution_count": 32,
   "id": "87d43c2b-2daf-4df0-8121-425de8532d72",
   "metadata": {},
   "outputs": [],
   "source": [
    "# Must be encrypted\n",
    "url = \"http://127.0.0.1:8086\"\n",
    "token = \"2WM######################################################RcbVQ==\"\n",
    "org = \"team_keanu\"\n",
    "bucket = \"testbucket\""
   ]
  },
  {
   "cell_type": "markdown",
   "id": "bc46aadd-8103-4a12-8002-e3621117a4d7",
   "metadata": {},
   "source": [
    "# Write API"
   ]
  },
  {
   "cell_type": "code",
   "execution_count": 11,
   "id": "012f6a02-aa6e-41a2-bab5-f01bdb486c58",
   "metadata": {},
   "outputs": [],
   "source": [
    "from datetime import datetime, timedelta\n",
    "\n",
    "import pandas as pd\n",
    "import rx\n",
    "from pytz import UTC\n",
    "from rx import operators as ops\n",
    "\n",
    "from influxdb_client import InfluxDBClient, Point, WriteOptions\n",
    "\n",
    "with InfluxDBClient(url=url, token=token, org=org) as _client:\n",
    "\n",
    "    with _client.write_api(write_options=WriteOptions(batch_size=500,\n",
    "                                                      flush_interval=10_000,\n",
    "                                                      jitter_interval=2_000,\n",
    "                                                      retry_interval=5_000,\n",
    "                                                      max_retries=5,\n",
    "                                                      max_retry_delay=30_000,\n",
    "                                                      exponential_base=2)) as _write_client:\n",
    "\n",
    "        \"\"\"\n",
    "        Write Line Protocol formatted as string\n",
    "        \"\"\"\n",
    "        _write_client.write(bucket, org, \"h2o_feet,location=coyote_creek water_level=1.0 1\")\n",
    "        _write_client.write(bucket, org, [\"h2o_feet,location=coyote_creek water_level=2.0 2\",\n",
    "                                                    \"h2o_feet,location=coyote_creek water_level=3.0 3\"])\n",
    "\n",
    "        \"\"\"\n",
    "        Write Line Protocol formatted as byte array\n",
    "        \"\"\"\n",
    "        _write_client.write(bucket, org, \"h2o_feet,location=coyote_creek water_level=1.0 1\".encode())\n",
    "        _write_client.write(bucket, org, [\"h2o_feet,location=coyote_creek water_level=2.0 2\".encode(),\n",
    "                                                    \"h2o_feet,location=coyote_creek water_level=3.0 3\".encode()])\n",
    "\n",
    "        \"\"\"\n",
    "        Write Dictionary-style object\n",
    "        \"\"\"\n",
    "        _write_client.write(bucket, org, {\"measurement\": \"h2o_feet\", \"tags\": {\"location\": \"coyote_creek\"},\n",
    "                                                    \"fields\": {\"water_level\": 1.0}, \"time\": 1})\n",
    "        _write_client.write(bucket, org, [{\"measurement\": \"h2o_feet\", \"tags\": {\"location\": \"coyote_creek\"},\n",
    "                                                     \"fields\": {\"water_level\": 2.0}, \"time\": 2},\n",
    "                                                    {\"measurement\": \"h2o_feet\", \"tags\": {\"location\": \"coyote_creek\"},\n",
    "                                                     \"fields\": {\"water_level\": 3.0}, \"time\": 3}])\n",
    "\n",
    "        \"\"\"\n",
    "        Write Data Point\n",
    "        \"\"\"\n",
    "        _write_client.write(bucket, org,\n",
    "                            Point(\"h2o_feet\").tag(\"location\", \"coyote_creek\").field(\"water_level\", 4.0).time(4))\n",
    "        _write_client.write(bucket, org,\n",
    "                            [Point(\"h2o_feet\").tag(\"location\", \"coyote_creek\").field(\"water_level\", 5.0).time(5),\n",
    "                             Point(\"h2o_feet\").tag(\"location\", \"coyote_creek\").field(\"water_level\", 6.0).time(6)])\n",
    "\n",
    "        \"\"\"\n",
    "        Write Observable stream\n",
    "        \"\"\"\n",
    "        _data = rx \\\n",
    "            .range(7, 11) \\\n",
    "            .pipe(ops.map(lambda i: \"h2o_feet,location=coyote_creek water_level={0}.0 {0}\".format(i)))\n",
    "\n",
    "        _write_client.write(bucket, org, _data)\n",
    "\n",
    "        \"\"\"\n",
    "        Write Pandas DataFrame\n",
    "        \"\"\"\n",
    "        _now = datetime.now(UTC)\n",
    "        _data_frame = pd.DataFrame(data=[[\"coyote_creek\", 1.0], [\"coyote_creek\", 2.0]],\n",
    "                                   index=[_now, _now + timedelta(hours=1)],\n",
    "                                   columns=[\"location\", \"water_level\"])\n",
    "\n",
    "        _write_client.write(bucket, org, record=_data_frame, data_frame_measurement_name='h2o_feet',\n",
    "                            data_frame_tag_columns=['location'])"
   ]
  },
  {
   "cell_type": "markdown",
   "id": "d5ef9a24-049c-4bc1-b4cd-301fae5a1988",
   "metadata": {},
   "source": [
    "# Write with asynchronous client\n",
    "### Data are writes in an asynchronous HTTP request."
   ]
  },
  {
   "cell_type": "code",
   "execution_count": 12,
   "id": "5e3e5fe5-be04-42bc-bb13-f06756038012",
   "metadata": {},
   "outputs": [],
   "source": [
    "from influxdb_client import InfluxDBClient, Point\n",
    "from influxdb_client.client.write_api import ASYNCHRONOUS\n",
    "\n",
    "client = InfluxDBClient(url=url, token=token, org=org)\n",
    "write_api = client.write_api(write_options=ASYNCHRONOUS)\n",
    "\n",
    "_point1 = Point(\"my_measurement\").tag(\"location\", \"Prague\").field(\"temperature\", 25.3)\n",
    "_point2 = Point(\"my_measurement\").tag(\"location\", \"New York\").field(\"temperature\", 24.3)\n",
    "\n",
    "async_result = write_api.write(bucket=bucket, record=[_point1, _point2])\n",
    "async_result.get()\n",
    "\n",
    "client.close()"
   ]
  },
  {
   "cell_type": "markdown",
   "id": "41b1d97a-877e-44ba-b485-41ecc591191c",
   "metadata": {},
   "source": [
    "# Write with synchronous client\n",
    "### Data are writes in a synchronous HTTP request."
   ]
  },
  {
   "cell_type": "code",
   "execution_count": 13,
   "id": "08880135-a4c5-4fbb-884b-796f519721b4",
   "metadata": {},
   "outputs": [],
   "source": [
    "from influxdb_client import InfluxDBClient, Point\n",
    "from influxdb_client.client.write_api import SYNCHRONOUS\n",
    "\n",
    "client = InfluxDBClient(url=url, token=token, org=org)\n",
    "write_api = client.write_api(write_options=SYNCHRONOUS)\n",
    "\n",
    "_point1 = Point(\"my_measurement\").tag(\"location\", \"Prague\").field(\"temperature\", 25.3)\n",
    "_point2 = Point(\"my_measurement\").tag(\"location\", \"New York\").field(\"temperature\", 24.3)\n",
    "\n",
    "write_api.write(bucket=bucket, record=[_point1, _point2])\n",
    "\n",
    "client.close()"
   ]
  },
  {
   "cell_type": "markdown",
   "id": "a1f03690-5677-4153-b26e-77671f7c79db",
   "metadata": {},
   "source": [
    "# Get Buckets"
   ]
  },
  {
   "cell_type": "code",
   "execution_count": 30,
   "id": "437a38c2-d92d-496e-8905-e9361387b1c9",
   "metadata": {},
   "outputs": [],
   "source": [
    "import influxdb_client.client.bucket_api as fluxdb\n",
    "\n",
    "client = InfluxDBClient(url=url, token=token, org=org)\n",
    "buckets_api = fluxdb.BucketsApi(client)\n",
    "\n",
    "# All of buckets\n",
    "all_buckets = buckets_api.find_buckets()"
   ]
  },
  {
   "cell_type": "code",
   "execution_count": 31,
   "id": "c6c28749-10b7-42f2-931d-aeb01c171a0e",
   "metadata": {},
   "outputs": [
    {
     "name": "stdout",
     "output_type": "stream",
     "text": [
      "Help on BucketsApi in module influxdb_client.client.bucket_api object:\n",
      "\n",
      "class BucketsApi(builtins.object)\n",
      " |  BucketsApi(influxdb_client)\n",
      " |  \n",
      " |  Implementation for '/api/v2/buckets' endpoint.\n",
      " |  \n",
      " |  Methods defined here:\n",
      " |  \n",
      " |  __init__(self, influxdb_client)\n",
      " |      Initialize defaults.\n",
      " |  \n",
      " |  create_bucket(self, bucket=None, bucket_name=None, org_id=None, retention_rules=None, description=None) -> influxdb_client.domain.bucket.Bucket\n",
      " |      Create a bucket.\n",
      " |      \n",
      " |      :param Bucket bucket: bucket to create (required)\n",
      " |      :param bucket_name: bucket name\n",
      " |      :param description: bucket description\n",
      " |      :param org_id: org_id\n",
      " |      :param bucket_name: bucket name\n",
      " |      :param retention_rules: retention rules array or single BucketRetentionRules\n",
      " |      :return: Bucket\n",
      " |               If the method is called asynchronously,\n",
      " |               returns the request thread.\n",
      " |  \n",
      " |  delete_bucket(self, bucket)\n",
      " |      Delete a bucket.\n",
      " |      \n",
      " |      :param bucket: bucket id or Bucket\n",
      " |      :return: Bucket\n",
      " |               If the method is called asynchronously,\n",
      " |               returns the request thread.\n",
      " |  \n",
      " |  find_bucket_by_id(self, id)\n",
      " |      Find bucket by ID.\n",
      " |      \n",
      " |      :param id:\n",
      " |      :return:\n",
      " |  \n",
      " |  find_bucket_by_name(self, bucket_name)\n",
      " |      Find bucket by name.\n",
      " |      \n",
      " |      :param bucket_name: bucket name\n",
      " |      :return: Bucket\n",
      " |  \n",
      " |  find_buckets(self, **kwargs)\n",
      " |      List buckets.\n",
      " |      \n",
      " |      :key int offset: Offset for pagination\n",
      " |      :key int limit: Limit for pagination\n",
      " |      :key str after: The last resource ID from which to seek from (but not including).\n",
      " |                      This is to be used instead of `offset`.\n",
      " |      :key str org: The organization name.\n",
      " |      :key str org_id: The organization ID.\n",
      " |      :key str name: Only returns buckets with a specific name.\n",
      " |      :return: Buckets\n",
      " |  \n",
      " |  ----------------------------------------------------------------------\n",
      " |  Data descriptors defined here:\n",
      " |  \n",
      " |  __dict__\n",
      " |      dictionary for instance variables (if defined)\n",
      " |  \n",
      " |  __weakref__\n",
      " |      list of weak references to the object (if defined)\n",
      "\n"
     ]
    }
   ],
   "source": [
    "help(buckets_api)"
   ]
  },
  {
   "cell_type": "markdown",
   "id": "83596757-d155-427d-b3e9-1dda5be5d3c6",
   "metadata": {},
   "source": [
    "# Read with Query"
   ]
  },
  {
   "cell_type": "code",
   "execution_count": 27,
   "id": "b94b9518-a3c5-4c7d-a32c-6da0b52c504a",
   "metadata": {},
   "outputs": [
    {
     "name": "stdout",
     "output_type": "stream",
     "text": [
      "FluxTable() columns: 9, records: 1\n",
      "{'result': '_result', 'table': 0, '_start': datetime.datetime(2021, 7, 19, 14, 57, 44, 616869, tzinfo=tzutc()), '_stop': datetime.datetime(2021, 7, 19, 15, 17, 44, 616869, tzinfo=tzutc()), '_time': datetime.datetime(2021, 7, 19, 15, 9, 48, 829094, tzinfo=tzutc()), '_value': 1.0, '_field': 'water_level', '_measurement': 'h2o_feet', 'location': 'coyote_creek'}\n",
      "FluxTable() columns: 9, records: 2\n",
      "{'result': '_result', 'table': 1, '_start': datetime.datetime(2021, 7, 19, 14, 57, 44, 616869, tzinfo=tzutc()), '_stop': datetime.datetime(2021, 7, 19, 15, 17, 44, 616869, tzinfo=tzutc()), '_time': datetime.datetime(2021, 7, 19, 15, 9, 50, 881445, tzinfo=tzutc()), '_value': 24.3, '_field': 'temperature', '_measurement': 'my_measurement', 'location': 'New York'}\n",
      "{'result': '_result', 'table': 1, '_start': datetime.datetime(2021, 7, 19, 14, 57, 44, 616869, tzinfo=tzutc()), '_stop': datetime.datetime(2021, 7, 19, 15, 17, 44, 616869, tzinfo=tzutc()), '_time': datetime.datetime(2021, 7, 19, 15, 9, 50, 917730, tzinfo=tzutc()), '_value': 24.3, '_field': 'temperature', '_measurement': 'my_measurement', 'location': 'New York'}\n",
      "FluxTable() columns: 9, records: 10\n",
      "{'result': '_result', 'table': 2, '_start': datetime.datetime(2021, 7, 19, 14, 57, 44, 616869, tzinfo=tzutc()), '_stop': datetime.datetime(2021, 7, 19, 15, 17, 44, 616869, tzinfo=tzutc()), '_time': datetime.datetime(2021, 7, 19, 15, 9, 50, 881445, tzinfo=tzutc()), '_value': 25.3, '_field': 'temperature', '_measurement': 'my_measurement', 'location': 'Prague'}\n",
      "{'result': '_result', 'table': 2, '_start': datetime.datetime(2021, 7, 19, 14, 57, 44, 616869, tzinfo=tzutc()), '_stop': datetime.datetime(2021, 7, 19, 15, 17, 44, 616869, tzinfo=tzutc()), '_time': datetime.datetime(2021, 7, 19, 15, 9, 50, 917730, tzinfo=tzutc()), '_value': 25.3, '_field': 'temperature', '_measurement': 'my_measurement', 'location': 'Prague'}\n",
      "{'result': '_result', 'table': 2, '_start': datetime.datetime(2021, 7, 19, 14, 57, 44, 616869, tzinfo=tzutc()), '_stop': datetime.datetime(2021, 7, 19, 15, 17, 44, 616869, tzinfo=tzutc()), '_time': datetime.datetime(2021, 7, 19, 15, 13, 54, 848471, tzinfo=tzutc()), '_value': 25.3, '_field': 'temperature', '_measurement': 'my_measurement', 'location': 'Prague'}\n",
      "{'result': '_result', 'table': 2, '_start': datetime.datetime(2021, 7, 19, 14, 57, 44, 616869, tzinfo=tzutc()), '_stop': datetime.datetime(2021, 7, 19, 15, 17, 44, 616869, tzinfo=tzutc()), '_time': datetime.datetime(2021, 7, 19, 15, 14, 43, 600778, tzinfo=tzutc()), '_value': 25.3, '_field': 'temperature', '_measurement': 'my_measurement', 'location': 'Prague'}\n",
      "{'result': '_result', 'table': 2, '_start': datetime.datetime(2021, 7, 19, 14, 57, 44, 616869, tzinfo=tzutc()), '_stop': datetime.datetime(2021, 7, 19, 15, 17, 44, 616869, tzinfo=tzutc()), '_time': datetime.datetime(2021, 7, 19, 15, 15, 16, 858029, tzinfo=tzutc()), '_value': 25.3, '_field': 'temperature', '_measurement': 'my_measurement', 'location': 'Prague'}\n",
      "{'result': '_result', 'table': 2, '_start': datetime.datetime(2021, 7, 19, 14, 57, 44, 616869, tzinfo=tzutc()), '_stop': datetime.datetime(2021, 7, 19, 15, 17, 44, 616869, tzinfo=tzutc()), '_time': datetime.datetime(2021, 7, 19, 15, 15, 31, 114469, tzinfo=tzutc()), '_value': 25.3, '_field': 'temperature', '_measurement': 'my_measurement', 'location': 'Prague'}\n",
      "{'result': '_result', 'table': 2, '_start': datetime.datetime(2021, 7, 19, 14, 57, 44, 616869, tzinfo=tzutc()), '_stop': datetime.datetime(2021, 7, 19, 15, 17, 44, 616869, tzinfo=tzutc()), '_time': datetime.datetime(2021, 7, 19, 15, 15, 53, 525078, tzinfo=tzutc()), '_value': 25.3, '_field': 'temperature', '_measurement': 'my_measurement', 'location': 'Prague'}\n",
      "{'result': '_result', 'table': 2, '_start': datetime.datetime(2021, 7, 19, 14, 57, 44, 616869, tzinfo=tzutc()), '_stop': datetime.datetime(2021, 7, 19, 15, 17, 44, 616869, tzinfo=tzutc()), '_time': datetime.datetime(2021, 7, 19, 15, 16, 13, 745686, tzinfo=tzutc()), '_value': 25.3, '_field': 'temperature', '_measurement': 'my_measurement', 'location': 'Prague'}\n",
      "{'result': '_result', 'table': 2, '_start': datetime.datetime(2021, 7, 19, 14, 57, 44, 616869, tzinfo=tzutc()), '_stop': datetime.datetime(2021, 7, 19, 15, 17, 44, 616869, tzinfo=tzutc()), '_time': datetime.datetime(2021, 7, 19, 15, 16, 57, 340460, tzinfo=tzutc()), '_value': 25.3, '_field': 'temperature', '_measurement': 'my_measurement', 'location': 'Prague'}\n",
      "{'result': '_result', 'table': 2, '_start': datetime.datetime(2021, 7, 19, 14, 57, 44, 616869, tzinfo=tzutc()), '_stop': datetime.datetime(2021, 7, 19, 15, 17, 44, 616869, tzinfo=tzutc()), '_time': datetime.datetime(2021, 7, 19, 15, 17, 44, 608837, tzinfo=tzutc()), '_value': 25.3, '_field': 'temperature', '_measurement': 'my_measurement', 'location': 'Prague'}\n",
      "<_csv.reader object at 0x0000014296108640>\n"
     ]
    }
   ],
   "source": [
    "from influxdb_client import InfluxDBClient, Point\n",
    "from influxdb_client.client.write_api import SYNCHRONOUS\n",
    "\n",
    "client = InfluxDBClient(url=url, token=token, org=org)\n",
    "\n",
    "write_api = client.write_api(write_options=SYNCHRONOUS)\n",
    "query_api = client.query_api()\n",
    "\n",
    "p = Point(\"my_measurement\").tag(\"location\", \"Prague\").field(\"temperature\", 25.3)\n",
    "\n",
    "write_api.write(bucket=bucket, record=p)\n",
    "\n",
    "## using Table structure\n",
    "tables = query_api.query('from(bucket:' + \"\\\"\" + bucket + \"\\\"\" + ') |> range(start: -20m)')\n",
    "\n",
    "for table in tables:\n",
    "    print(table)\n",
    "    for row in table.records:\n",
    "        print (row.values)\n",
    "\n",
    "\n",
    "## using csv library\n",
    "csv_result = query_api.query_csv('from(bucket:' + \"\\\"\" + bucket + \"\\\"\" + ') |> range(start: -20m)')\n",
    "val_count = 0\n",
    "for row in csv_result:\n",
    "    for cell in row:\n",
    "        val_count += 1\n",
    "print(csv_result)"
   ]
  }
 ],
 "metadata": {
  "kernelspec": {
   "display_name": "Python 3",
   "language": "python",
   "name": "python3"
  },
  "language_info": {
   "codemirror_mode": {
    "name": "ipython",
    "version": 3
   },
   "file_extension": ".py",
   "mimetype": "text/x-python",
   "name": "python",
   "nbconvert_exporter": "python",
   "pygments_lexer": "ipython3",
   "version": "3.9.4"
  }
 },
 "nbformat": 4,
 "nbformat_minor": 5
}
